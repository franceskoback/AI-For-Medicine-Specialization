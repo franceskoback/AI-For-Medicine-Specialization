{
 "cells": [
  {
   "cell_type": "code",
   "execution_count": 3,
   "id": "9e960aad-f419-492e-8fc4-da60c06f9d21",
   "metadata": {},
   "outputs": [
    {
     "data": {
      "text/plain": [
       "'3.8.2'"
      ]
     },
     "execution_count": 3,
     "metadata": {},
     "output_type": "execute_result"
    }
   ],
   "source": [
    "from platform import python_version\n",
    "python_version() "
   ]
  },
  {
   "cell_type": "code",
   "execution_count": null,
   "id": "48c1651b-7a78-49df-8e11-65c879188aa2",
   "metadata": {},
   "outputs": [],
   "source": []
  }
 ],
 "metadata": {
  "kernelspec": {
   "display_name": "py27",
   "language": "python",
   "name": "py27"
  },
  "language_info": {
   "codemirror_mode": {
    "name": "ipython",
    "version": 3
   },
   "file_extension": ".py",
   "mimetype": "text/x-python",
   "name": "python",
   "nbconvert_exporter": "python",
   "pygments_lexer": "ipython3",
   "version": "3.8.2"
  }
 },
 "nbformat": 4,
 "nbformat_minor": 5
}
